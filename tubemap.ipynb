{
 "cells": [
  {
   "cell_type": "code",
   "execution_count": 1,
   "id": "3a58609e",
   "metadata": {},
   "outputs": [],
   "source": [
    "import pandas as pd\n",
    "from collections import defaultdict, deque\n",
    "import heapq\n",
    "from queue import PriorityQueue\n",
    "df = pd.read_csv('tubedata.csv', header=None)\n",
    "df.head()\n",
    "\n",
    "station_dict = defaultdict(list)\n",
    "zone_dict = defaultdict(set)\n",
    "\n",
    "for index, row in df.iterrows():\n",
    "  \n",
    "  start_station = row[0]\n",
    "  end_station = row[1]\n",
    "  act_cost = int(row[3])\n",
    "\n",
    "  zone1 = row[4]\n",
    "  zone2 = row[5]\n",
    "\n",
    "  # station dictionary of child station tuples (child_name, cost from parent to the child)\n",
    "  # {\"Mile End\": [(\"Stepney Green\", 2), (\"Wembley\", 1)]}\n",
    "  station_list = station_dict[start_station]\n",
    "  station_list.append((end_station, act_cost))\n",
    "\n",
    "  # the following two lines add the other direction of the tube \"step\"\n",
    "  station_list = station_dict[end_station]\n",
    "  station_list.append((start_station, act_cost))\n",
    "  \n",
    "  # we add the main zone\n",
    "  zone_dict[start_station].add(zone1)\n",
    "  # we add the secondary zone\n",
    "  if zone2 != \"0\":\n",
    "    zone_dict[start_station].add(zone2)\n",
    "    # if the secondary zone is not 0 it's the main zone for the ending station\n",
    "    zone_dict[end_station].add(zone2)\n",
    "  else:\n",
    "    # otherwise the main zone for the ending station is the same as for the starting station\n",
    "    zone_dict[end_station].add(zone1)"
   ]
  },
  {
   "cell_type": "markdown",
   "id": "0b1d9a62-904f-4fdb-b7bb-c4b3f1de7bfc",
   "metadata": {},
   "source": [
    "2.1 Implement DFS, BFS and UCS\n"
   ]
  },
  {
   "cell_type": "code",
   "execution_count": 2,
   "id": "f8a118ae-b6f9-42c5-85d0-2222de7f9236",
   "metadata": {},
   "outputs": [],
   "source": [
    "def dfs(graph, start, goal, inverse_order=False):\n",
    "    visited = set()\n",
    "    stack = [(start, [start], 0)]  # station, path, cost\n",
    "    expanded_nodes = 0\n",
    "# Main loop  DFS\n",
    "    while stack:\n",
    "        (vert, path, cost) = stack.pop()\n",
    "        expanded_nodes += 1\n",
    "\n",
    "        if vert == goal:\n",
    "            return path, cost, expanded_nodes\n",
    "        visited.add(vert)\n",
    "\n",
    "        neighbors = graph[vert]\n",
    "        if inverse_order:\n",
    "            neighbors = reversed(neighbors)\n",
    "\n",
    "        for next, next_cost in neighbors:\n",
    "            if next not in visited:\n",
    "                stack.append((next, path + [next], cost + next_cost))\n",
    "\n",
    "    return None\n",
    "\n",
    "\n",
    "def bfs(graph, start, goal, inverse_order=False):\n",
    "    queue = deque([(start, [start])])  # Queue of (current node, path)\n",
    "    visited_nodes = set()\n",
    " # Main loop  BFS\n",
    "    while queue:\n",
    "        current, path = queue.popleft()\n",
    "\n",
    "        if current == goal:\n",
    "            return path  # Goal reached, return the path\n",
    "\n",
    "        if current not in visited_nodes:\n",
    "            visited_nodes.add(current)\n",
    "            neigh = graph.get(current, [])\n",
    "\n",
    "            if inverse_order:\n",
    "                neigh = reversed(neigh)\n",
    "\n",
    "            for neighbor in neigh:\n",
    "                neighbor_name, _ = neighbor\n",
    "                if neighbor_name not in visited_nodes:\n",
    "                    queue.append((neighbor_name, path + [neighbor_name]))\n",
    "\n",
    "    return None \n",
    "# Main loop ucs\n",
    "def ucs(graph, start_station, goal_station, zone_dict, inverse_order=False):\n",
    "    start_state = (0, start_station, [start_station])  # cost, station, path\n",
    "    p_queue = [start_state]\n",
    "    visited = set()\n",
    "\n",
    "    while p_queue:\n",
    "        current_cost, current_station, current_path = heapq.heappop(p_queue)\n",
    "\n",
    "        if current_station == goal_station:\n",
    "            return current_path, current_cost, len(visited) + 1  # +1 for the current node\n",
    "\n",
    "        if current_station not in visited:\n",
    "            visited.add(current_station)\n",
    "\n",
    "            neighbors = graph[current_station]\n",
    "            if inverse_order:\n",
    "                neighbors = sorted(neighbors, key=lambda x: x[1], reverse=True)\n",
    "\n",
    "            for neighbor, cost in neighbors:\n",
    "                if neighbor not in current_path:\n",
    "                    new_cost = current_cost + cost\n",
    "                    new_state = (new_cost, neighbor, current_path + [neighbor])\n",
    "                    heapq.heappush(p_queue, new_state)\n",
    "\n",
    "    return None\n",
    "    \n",
    " \n",
    "def routes(graph, start_station, end_station,inverse = False):\n",
    "    print(\"Testing route from\", start_station, \"to\", end_station)\n",
    "    dfs_path, dfs_cost, dfs_expanded = dfs(graph, start_station, end_station,inverse)\n",
    "    print(\"DFS:\", dfs_path, dfs_cost, dfs_expanded)\n",
    "    bfs_path= bfs(graph, start_station, end_station,inverse)\n",
    "    bfs_cost = sum(graph[node1][0][1] for node1 in bfs_path[1:])\n",
    "    bfs_exp_path = len(bfs_path)\n",
    "    print(\"BFS:\", bfs_path, bfs_cost, bfs_exp_path )\n",
    "    ucs_path, ucs_cost, ucs_expanded = ucs(graph, start_station, end_station,zone_dict,inverse)\n",
    "    print(\"UCS:\", ucs_path, ucs_cost, ucs_expanded)"
   ]
  },
  {
   "cell_type": "code",
   "execution_count": 3,
   "id": "56611009-f5c8-41b1-9c53-187e38301b32",
   "metadata": {},
   "outputs": [
    {
     "name": "stdout",
     "output_type": "stream",
     "text": [
      "Testing route from Canada Water to Stratford\n",
      "DFS: ['Canada Water', 'Canary Wharf', 'North Greenwich', 'Canning Town', 'West Ham', 'Stratford'] 15 6\n",
      "BFS: ['Canada Water', 'Canary Wharf', 'North Greenwich', 'Canning Town', 'West Ham', 'Stratford'] 15 6\n",
      "UCS: ['Canada Water', 'Rotherhithe', 'Wapping', 'Shadwell', 'Whitechapel', 'Stepney Green', 'Mile End', 'Stratford'] 14 55\n"
     ]
    }
   ],
   "source": [
    "routes(station_dict, 'Canada Water',\"Stratford\")"
   ]
  },
  {
   "cell_type": "code",
   "execution_count": 4,
   "id": "2b03643c-87f5-4bc5-adcb-71ca08dc55bc",
   "metadata": {},
   "outputs": [
    {
     "name": "stdout",
     "output_type": "stream",
     "text": [
      "Testing route from New Cross Gate to Stepney Green\n",
      "DFS: ['New Cross Gate', 'Surrey Quays', 'Canada Water', 'Canary Wharf', 'North Greenwich', 'Canning Town', 'West Ham', 'Stratford', 'Mile End', 'Stepney Green'] 27 35\n",
      "BFS: ['New Cross Gate', 'Surrey Quays', 'Canada Water', 'Rotherhithe', 'Wapping', 'Shadwell', 'Whitechapel', 'Stepney Green'] 12 8\n",
      "UCS: ['New Cross Gate', 'Surrey Quays', 'Canada Water', 'Rotherhithe', 'Wapping', 'Shadwell', 'Whitechapel', 'Stepney Green'] 14 19\n"
     ]
    }
   ],
   "source": [
    "routes(station_dict, 'New Cross Gate',\"Stepney Green\")"
   ]
  },
  {
   "cell_type": "code",
   "execution_count": 5,
   "id": "55ae7e6b",
   "metadata": {},
   "outputs": [
    {
     "name": "stdout",
     "output_type": "stream",
     "text": [
      "Testing route from Ealing Broadway to South Kensington\n",
      "DFS: ['Ealing Broadway', 'Ealing Common', 'North Ealing', 'Park Royal', 'Alperton', 'Sudbury Town', 'Sudbury Hill', 'South Harrow', 'Rayners Lane', 'West Harrow', 'Harrow-on-the-Hill', 'Northwick Park', 'Preston Road', 'Wembley Park', 'Finchley Road', 'Baker Street', 'Great Portland Street', 'Euston Square', \"King's Cross St. Pancras\", 'Euston', 'Warren Street', 'Oxford Circus', 'Green Park', 'Victoria', 'Sloane Square', 'South Kensington'] 67 194\n",
      "BFS: ['Ealing Broadway', 'Ealing Common', 'Acton Town', 'Turnham Green', 'Hammersmith', 'Barons Court', \"Earls' Court\", 'Gloucester Road', 'South Kensington'] 16 9\n",
      "UCS: ['Ealing Broadway', 'Ealing Common', 'Acton Town', 'Turnham Green', 'Hammersmith', 'Barons Court', \"Earls' Court\", 'Gloucester Road', 'South Kensington'] 19 50\n"
     ]
    }
   ],
   "source": [
    "routes(station_dict, 'Ealing Broadway', \"South Kensington\")"
   ]
  },
  {
   "cell_type": "code",
   "execution_count": 6,
   "id": "9c30363d-17b4-4a49-be9a-0b4887fc78df",
   "metadata": {},
   "outputs": [
    {
     "name": "stdout",
     "output_type": "stream",
     "text": [
      "Testing route from Baker Street to Wembley Park\n",
      "DFS: ['Baker Street', 'Finchley Road', 'Wembley Park'] 13 3\n",
      "BFS: ['Baker Street', 'Finchley Road', 'Wembley Park'] 5 3\n",
      "UCS: ['Baker Street', 'Finchley Road', 'Wembley Park'] 13 85\n"
     ]
    }
   ],
   "source": [
    "routes(station_dict, 'Baker Street',\"Wembley Park\")"
   ]
  },
  {
   "cell_type": "code",
   "execution_count": 7,
   "id": "3da1701c-d642-4ace-9898-24d29caf3be2",
   "metadata": {},
   "outputs": [
    {
     "name": "stdout",
     "output_type": "stream",
     "text": [
      "Testing route from South Kensington to Ealing Broadway\n",
      "DFS: ['South Kensington', 'Gloucester Road', \"Earls' Court\", 'Barons Court', 'Hammersmith', 'Turnham Green', 'Acton Town', 'Ealing Common', 'North Ealing', 'Park Royal', 'Alperton', 'Sudbury Town', 'Sudbury Hill', 'South Harrow', 'Rayners Lane', 'West Harrow', 'Harrow-on-the-Hill', 'Northwick Park', 'Preston Road', 'Wembley Park', 'Finchley Road', 'Baker Street', 'Great Portland Street', 'Euston Square', \"King's Cross St. Pancras\", 'Euston', 'Warren Street', 'Oxford Circus', 'Green Park', 'Bond Street', 'Marble Arch', 'Lancaster Gate', 'Queensway', 'Notting Hill Gate', 'Bayswater', 'Paddington', 'Royal Oak', 'Westbourne Park', 'Ladbroke Grove', 'Latimer Road', \"Shepherd's Bush\", 'White City', 'East Acton', 'North Acton', 'West Acton', 'Ealing Broadway'] 108 227\n",
      "BFS: ['South Kensington', 'Gloucester Road', \"Earls' Court\", 'Barons Court', 'Hammersmith', 'Turnham Green', 'Acton Town', 'Ealing Common', 'Ealing Broadway'] 17 9\n",
      "UCS: ['South Kensington', 'Gloucester Road', \"Earls' Court\", 'Barons Court', 'Hammersmith', 'Turnham Green', 'Acton Town', 'Ealing Common', 'Ealing Broadway'] 19 120\n"
     ]
    }
   ],
   "source": [
    "routes(station_dict, 'South Kensington', \"Ealing Broadway\")"
   ]
  },
  {
   "cell_type": "code",
   "execution_count": 8,
   "id": "249b27b0-63c0-4c49-955a-27206591cbba",
   "metadata": {},
   "outputs": [
    {
     "name": "stdout",
     "output_type": "stream",
     "text": [
      "Testing route from South Kensington to Ealing Broadway\n",
      "DFS: ['South Kensington', 'Sloane Square', 'Victoria', \"St. James' Park\", 'Westminster', 'Embankment', 'Charing Cross', 'Piccadilly Circus', 'Oxford Circus', \"Regent's Park\", 'Baker Street', 'Marylebone', 'Edgware Road', 'Paddington', 'Bayswater', 'Notting Hill Gate', 'Holland Park', \"Shepherd's Bush\", 'White City', 'East Acton', 'North Acton', 'West Acton', 'Ealing Broadway'] 46 43\n",
      "BFS: ['South Kensington', 'Gloucester Road', \"Earls' Court\", 'Barons Court', 'Hammersmith', 'Turnham Green', 'Acton Town', 'Ealing Common', 'Ealing Broadway'] 17 9\n",
      "UCS: ['South Kensington', 'Gloucester Road', \"Earls' Court\", 'Barons Court', 'Hammersmith', 'Turnham Green', 'Acton Town', 'Ealing Common', 'Ealing Broadway'] 19 120\n"
     ]
    }
   ],
   "source": [
    "## Inverse order\n",
    "\n",
    "routes(station_dict, 'South Kensington', \"Ealing Broadway\",True)\n"
   ]
  },
  {
   "cell_type": "markdown",
   "id": "9060e6eb-f88e-492e-8893-a206208021a6",
   "metadata": {},
   "source": [
    "2.3 Extending the cost function"
   ]
  },
  {
   "cell_type": "code",
   "execution_count": 12,
   "id": "d000ede0-e981-481d-9696-6a90c907912d",
   "metadata": {},
   "outputs": [],
   "source": [
    "#2.3\n",
    "station_lines = defaultdict(list)\n",
    "for index, row in df.iterrows():\n",
    "    start_station, end_station, line, act_cost, _, _ = row\n",
    "    act_cost = int(act_cost)\n",
    "    station_lines[start_station].append((end_station, (act_cost, line)))\n",
    "    station_lines[end_station].append((start_station, (act_cost, line)))\n",
    "def multi_line_change (graph, start, goal, line_change_cost=2):\n",
    "    queue = [(0, start, [start], None)]  # Cost, station, path, current line\n",
    "    expanded_nodes = 0\n",
    "    visited_nodes = set()\n",
    "    while queue:\n",
    "        cost, vertex, path, current_line = heapq.heappop(queue)\n",
    "        expanded_nodes += 1\n",
    "        if vertex == goal:\n",
    "            return path, cost, expanded_nodes\n",
    "        if vertex not in visited_nodes:\n",
    "            visited_nodes.add(vertex)\n",
    "        for next_station, next_info in graph[vertex]:\n",
    "            next_cost, next_line = next_info # Assuming the graph stores cost and line\n",
    "            total_cost = cost + next_cost\n",
    "            # Check for line change and add penalty if needed\n",
    "            if current_line and next_line != current_line:\n",
    "                total_cost+= line_change_cost\n",
    "            if next_station not in path:\n",
    "                heapq.heappush(queue, (total_cost, next_station, path + [next_station], next_line))\n",
    "    return None\n",
    "def uni_line_change(graph, s, e):\n",
    "    # UCS with time change implementation\n",
    "    ucs_path, ucs_start, ucs_end = multi_line_change(station_lines, s, e)\n",
    "    print(\"UCS with line changes:\", ucs_path, ucs_start, ucs_end)"
   ]
  },
  {
   "cell_type": "code",
   "execution_count": 13,
   "id": "02b684c3-1740-435c-b3b8-db359b5dd3d5",
   "metadata": {},
   "outputs": [
    {
     "name": "stdout",
     "output_type": "stream",
     "text": [
      "Testing route from South Kensington to Stratford\n",
      "DFS: ['South Kensington', 'Gloucester Road', \"Earls' Court\", 'Barons Court', 'Hammersmith', 'Turnham Green', 'Acton Town', 'Ealing Common', 'North Ealing', 'Park Royal', 'Alperton', 'Sudbury Town', 'Sudbury Hill', 'South Harrow', 'Rayners Lane', 'West Harrow', 'Harrow-on-the-Hill', 'Northwick Park', 'Preston Road', 'Wembley Park', 'Finchley Road', 'Baker Street', 'Great Portland Street', 'Euston Square', \"King's Cross St. Pancras\", 'Euston', 'Warren Street', 'Oxford Circus', 'Green Park', 'Victoria', 'Pimlico', 'Vauxhall', 'Stockwell', 'Oval', 'Kennington', 'Elephant & Castle', 'Borough', 'London Bridge', 'Bank/Monument', 'Moorgate', 'Liverpool Street', 'Aldgate', 'Tower Hill', 'Aldgate East', 'Whitechapel', 'Stepney Green', 'Mile End', 'Bow Road', 'Bromley-by-Bow', 'West Ham', 'Stratford'] 122 122\n",
      "BFS: ['South Kensington', 'Sloane Square', 'Victoria', \"St. James' Park\", 'Westminster', 'Waterloo', 'Bank/Monument', 'Liverpool Street', 'Bethnal Green', 'Mile End', 'Stratford'] 23 11\n",
      "UCS: ['South Kensington', 'Sloane Square', 'Victoria', \"St. James' Park\", 'Westminster', 'Waterloo', 'Bank/Monument', 'Liverpool Street', 'Bethnal Green', 'Mile End', 'Stratford'] 25 168\n"
     ]
    }
   ],
   "source": [
    "routes(station_dict, 'South Kensington', \"Stratford\")"
   ]
  },
  {
   "cell_type": "code",
   "execution_count": 15,
   "id": "b3e4e687-a716-4400-8b83-8784298e676f",
   "metadata": {},
   "outputs": [
    {
     "name": "stdout",
     "output_type": "stream",
     "text": [
      "UCS with line changes: ['Canada Water', 'Canary Wharf', 'North Greenwich', 'Canning Town', 'West Ham', 'Stratford'] 15 84\n"
     ]
    }
   ],
   "source": [
    "uni_line_change(station_dict, 'Canada Water', \"Stratford\")"
   ]
  },
  {
   "cell_type": "markdown",
   "id": "18fb38d9-a474-4fc7-8a20-a7b0a414226b",
   "metadata": {},
   "source": [
    "Question 2.4 - Heuristic search"
   ]
  },
  {
   "cell_type": "code",
   "execution_count": null,
   "id": "006592c8-1590-45c5-9d0a-e7e50c009526",
   "metadata": {},
   "outputs": [],
   "source": [
    "#q2.4\n",
    "#Heuristic\n",
    "def heuristic(station, goal_station, zone_dict):\n",
    "    if station in zone_dict and goal_station in zone_dict:\n",
    "        station_zones = zone_dict[station]\n",
    "        goal_zones = zone_dict[goal_station]\n",
    "        station_zones = {int(zone) for zone in station_zones}\n",
    "        goal_zones = {int(zone) for zone in goal_zones}\n",
    "        min_zone_difference = min(abs(station_zone - goal_zone) for station_zone in station_zones for goal_zone in goal_zones)\n",
    "        return min_zone_difference\n",
    "    else:\n",
    "        return 0  \n",
    "def bfs(graph, start, goal, zone_dict):\n",
    "    priority_queue = PriorityQueue()\n",
    "    visited = set()\n",
    "    priority_queue.put((heuristic(start, goal, zone_dict), start, [start]))\n",
    "    while not priority_queue.empty():\n",
    "        _, vertex, path = priority_queue.get()\n",
    "        if vertex == goal:\n",
    "            return path\n",
    "        if vertex in graph and vertex not in visited:\n",
    "            visited.add(vertex)\n",
    "            for neighbor, _ in graph[vertex]:\n",
    "                if neighbor not in path:\n",
    "                    priority_queue.put((heuristic(neighbor, goal, zone_dict), neighbor, path + [neighbor]))\n",
    "    return None\n",
    "start_station = \"Euston\"\n",
    "goal_station = \"Victoria\"\n",
    "bfs_path = bfs(station_dict, start_station, goal_station, zone_dict)\n",
    "print(\"Best First Search\")\n",
    "print(\"Path:\", bfs_path)"
   ]
  },
  {
   "cell_type": "code",
   "execution_count": null,
   "id": "e9466576-47df-43ef-a55b-a450609a6323",
   "metadata": {},
   "outputs": [],
   "source": []
  }
 ],
 "metadata": {
  "kernelspec": {
   "display_name": "Python 3 (ipykernel)",
   "language": "python",
   "name": "python3"
  },
  "language_info": {
   "codemirror_mode": {
    "name": "ipython",
    "version": 3
   },
   "file_extension": ".py",
   "mimetype": "text/x-python",
   "name": "python",
   "nbconvert_exporter": "python",
   "pygments_lexer": "ipython3",
   "version": "3.10.13"
  }
 },
 "nbformat": 4,
 "nbformat_minor": 5
}
