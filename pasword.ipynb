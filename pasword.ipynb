{
 "cells": [
  {
   "cell_type": "code",
   "execution_count": 4,
   "id": "6989718f-ee4b-4b98-9a54-47e538d1a895",
   "metadata": {},
   "outputs": [
    {
     "name": "stdout",
     "output_type": "stream",
     "text": [
      "SU06DPCP27\n"
     ]
    },
    {
     "data": {
      "text/plain": [
       "{'2Q4HHHHOTJ': 0.5297086689226848, '2HHZQYUOTJ': 0.3831787236471351}"
      ]
     },
     "execution_count": 4,
     "metadata": {},
     "output_type": "execute_result"
    }
   ],
   "source": [
    "import math\n",
    "import hashlib\n",
    "import string\n",
    "\n",
    "def get_password(student_username, l=10):\n",
    "    # Possible characters include upper-case English letters, numbers between 0 and 9 (inclusive), \n",
    "    # and the underscore symbol\n",
    "    options = string.digits + string.ascii_uppercase  + \"_\"\n",
    "\n",
    "    h = hashlib.sha256((\"ECS759P-AI\"+student_username).encode(\"utf-8\"))\n",
    "    d = h.digest()\n",
    "    s = \"\"\n",
    "    for n in d:\n",
    "      s += options[n%len(options)]\n",
    "\n",
    "    return s[0:l]\n",
    "\n",
    "# TO DO: replace *** with your EECS username and uncomment the code\n",
    "student_password = get_password('ml23048')\n",
    "print(student_password)\n",
    "\n",
    "# Distance function\n",
    "def distance_function(string_one, string_two):\n",
    "    score = 0\n",
    "    for i, j in zip(string_one, string_two):\n",
    "        # Square of the absolute difference between two Unicode codes\n",
    "        score += math.sqrt(abs(ord(i) - ord(j)))\n",
    "    return score\n",
    "\n",
    "\n",
    "# Upper bound of the distance value\n",
    "MAX_VALUE = distance_function('0000000000', '__________')\n",
    "\n",
    "# Compute normalised fitness for a list of candidate passwords \n",
    "def get_normalised_fitness(list_of_phrases, student_password):\n",
    "    ordered_dict = dict()\n",
    "    phrase_to_find = student_password\n",
    "    for phrase in list_of_phrases:\n",
    "        # Return 1 when a candidate matches the true password (string distance between them is zero)\n",
    "        ordered_dict[phrase] = 1 - distance_function(phrase, phrase_to_find) / MAX_VALUE\n",
    "    return ordered_dict\n",
    "\n",
    "# Example of how to get fitness values for a list of candidates\n",
    "get_normalised_fitness(['2Q4HHHHOTJ', '2HHZQYUOTJ'], student_password)"
   ]
  },
  {
   "cell_type": "code",
   "execution_count": 15,
   "id": "6a697d34-2af3-466c-a0c1-469af2821477",
   "metadata": {},
   "outputs": [
    {
     "name": "stdout",
     "output_type": "stream",
     "text": [
      "Found Password: SU06DPCP27 in 91 generations\n"
     ]
    }
   ],
   "source": [
    "import random\n",
    "import string\n",
    "# Function to generate password\n",
    "def random_solution(length=8):\n",
    "    return ''.join(random.choice(string.ascii_letters + string.digits) for _ in range(length))\n",
    "#Finding number of matching characters with the target     \n",
    "def calculate_fitness(solution, target):\n",
    "    return sum(1 for a, b in zip(solution, target) if a == b)\n",
    "#Geting parents from the population based on their fitness\n",
    "def choose_parents(population, fitnesses, number=2):\n",
    "    return random.choices(population, weights=fitnesses, k=number)\n",
    "#Function to perform crossover on a child solution\n",
    "def crossover(parent1, parent2):\n",
    "    child = ''\n",
    "    for p1, p2 in zip(parent1, parent2):\n",
    "        child += p1 if random.random() < 0.5 else p2\n",
    "    return child\n",
    "#Performing mutation on a solution with a specified mutation rate\n",
    "def modify(solution, mutation_rate=0.01):\n",
    "    solution = list(solution)\n",
    "    for i in range(len(solution)):\n",
    "        if random.random() < mutation_rate:\n",
    "            solution[i] = random.choice(string.ascii_letters + string.digits)\n",
    "    return ''.join(solution)\n",
    "#genetic algorithm to find the target solution\n",
    "def genetic_algorithm(target, population_size=100, mutation_rate=0.01, max_generations=1000):\n",
    "    population = [generate_random_solution(len(target)) for _ in range(population_size)]\n",
    "    for generation in range(max_generations):\n",
    "        fitnesses = [calculate_fitness(solution, target) for solution in population]\n",
    "        if max(fitnesses) == len(target): \n",
    "            return population[fitnesses.index(max(fitnesses))], generation\n",
    "        new_population = []\n",
    "        for _ in range(population_size // 2): \n",
    "            parent1, parent2 = select_parents(population, fitnesses)\n",
    "            child1 = mutate(crossover(parent1, parent2), mutation_rate)\n",
    "            child2 = mutate(crossover(parent2, parent1), mutation_rate)\n",
    "            new_population.extend([child1, child2])\n",
    "        population = new_population\n",
    "    return None, max_generations  \n",
    "found_password, generations = genetic_algorithm(student_password )\n",
    "print(\"Found Password:\", found_password, \"in\", generations, \"generations\") if found_password else print(\"Password not found in\", generations, \"generations\")"
   ]
  },
  {
   "cell_type": "code",
   "execution_count": 14,
   "id": "f90dc4f9-116c-4dbc-bc38-3a5494bc2c48",
   "metadata": {},
   "outputs": [
    {
     "name": "stdout",
     "output_type": "stream",
     "text": [
      "The Average Generations: 478.2\n",
      "The Standard Deviation of Generations: 314.1042997335616\n"
     ]
    }
   ],
   "source": [
    "import statistics\n",
    "test_rate = 10 \n",
    "generations_list = []\n",
    "#Run the genetic algorithm multiple time\n",
    "for _ in range(test_rate):\n",
    "    _, generations = genetic_algorithm(student_password, population_size=100, mutation_rate=0.01, max_generations=1000)\n",
    "    generations_list.append(generations)\n",
    "average_generations = sum(generations_list) / test_rate\n",
    "std_dev_generations = statistics.stdev(generations_list)\n",
    "print(\"The Average Generations:\", average_generations)\n",
    "print(\"The Standard Deviation of Generations:\", std_dev_generations)"
   ]
  },
  {
   "cell_type": "code",
   "execution_count": null,
   "id": "d693acb3-d0aa-4bc3-bb8b-bb54cf52ff1a",
   "metadata": {},
   "outputs": [],
   "source": []
  }
 ],
 "metadata": {
  "kernelspec": {
   "display_name": "Python 3 (ipykernel)",
   "language": "python",
   "name": "python3"
  },
  "language_info": {
   "codemirror_mode": {
    "name": "ipython",
    "version": 3
   },
   "file_extension": ".py",
   "mimetype": "text/x-python",
   "name": "python",
   "nbconvert_exporter": "python",
   "pygments_lexer": "ipython3",
   "version": "3.10.13"
  }
 },
 "nbformat": 4,
 "nbformat_minor": 5
}
